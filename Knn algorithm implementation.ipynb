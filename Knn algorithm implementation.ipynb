{
 "cells": [
  {
   "cell_type": "code",
   "execution_count": 30,
   "id": "1c3175a6",
   "metadata": {},
   "outputs": [],
   "source": [
    "import pandas as pd\n",
    "import numpy as np\n",
    "from matplotlib import pyplot as plt\n",
    "import math"
   ]
  },
  {
   "cell_type": "code",
   "execution_count": 31,
   "id": "5ba5b76a",
   "metadata": {},
   "outputs": [],
   "source": [
    "training_data = pd.read_csv(r\"C:\\Users\\ardas\\AppData\\Roaming\\Microsoft\\Windows\\Start Menu\\Programs\\Anaconda3 (64-bit)\\data\\training2.csv\")\n",
    "training_data2 = pd.read_csv(r\"C:\\Users\\ardas\\AppData\\Roaming\\Microsoft\\Windows\\Start Menu\\Programs\\Anaconda3 (64-bit)\\data\\training2.csv\")\n",
    "training_data3 = pd.read_csv(r\"C:\\Users\\ardas\\AppData\\Roaming\\Microsoft\\Windows\\Start Menu\\Programs\\Anaconda3 (64-bit)\\data\\training2.csv\")\n",
    "\n",
    "test_data = pd.read_csv(r\"C:\\Users\\ardas\\AppData\\Roaming\\Microsoft\\Windows\\Start Menu\\Programs\\Anaconda3 (64-bit)\\data\\testing2.csv\")\n",
    "test_data2 = pd.read_csv(r\"C:\\Users\\ardas\\AppData\\Roaming\\Microsoft\\Windows\\Start Menu\\Programs\\Anaconda3 (64-bit)\\data\\testing2.csv\")\n",
    "test_data3 = pd.read_csv(r\"C:\\Users\\ardas\\AppData\\Roaming\\Microsoft\\Windows\\Start Menu\\Programs\\Anaconda3 (64-bit)\\data\\testing2.csv\")\n"
   ]
  },
  {
   "cell_type": "code",
   "execution_count": 47,
   "id": "ab254262",
   "metadata": {},
   "outputs": [],
   "source": [
    "setosa_number = 0\n",
    "versicolor_number = 0\n",
    "virginica_number = 0\n",
    "setosa_length = 0\n",
    "versicolor_length = 0\n",
    "virginica_length = 0\n",
    "setosa_width = 0\n",
    "versicolor_width = 0\n",
    "virginica_width = 0\n",
    "\n",
    "#Calculating means of each classes' PetalLength and PetalWidth\n",
    "\n",
    "for index, row in training_data.iterrows():\n",
    "    if row[\"Species\"] == \"Iris-setosa\":\n",
    "        setosa_number += 1\n",
    "        setosa_length += row[\"PetalLengthCm\"]\n",
    "        setosa_width += row[\"PetalWidthCm\"]\n",
    "    elif row[\"Species\"] == \"Iris-versicolor\":\n",
    "        versicolor_number += 1\n",
    "        versicolor_length += row[\"PetalLengthCm\"]\n",
    "        versicolor_width += row[\"PetalWidthCm\"]\n",
    "    elif row[\"Species\"] == \"Iris-virginica\":\n",
    "        virginica_number += 1\n",
    "        virginica_length += row[\"PetalLengthCm\"]\n",
    "        virginica_width += row[\"PetalWidthCm\"]\n",
    "\n",
    "        \n",
    "#Setosa means\n",
    "setosa_length_mean = setosa_length/setosa_number\n",
    "setosa_width_mean = setosa_width/setosa_number\n",
    "\n",
    "#Versicolor means\n",
    "versicolor_length_mean = versicolor_length/versicolor_number\n",
    "versicolor_width_mean = versicolor_width/versicolor_number\n",
    "\n",
    "#Virginica means\n",
    "virginica_length_mean = virginica_length/virginica_number\n",
    "virginica_width_mean = virginica_width/virginica_number\n",
    "\n"
   ]
  },
  {
   "cell_type": "code",
   "execution_count": 48,
   "id": "a3768d46",
   "metadata": {},
   "outputs": [
    {
     "data": {
      "text/plain": [
       "[<matplotlib.lines.Line2D at 0x286464b06d0>]"
      ]
     },
     "execution_count": 48,
     "metadata": {},
     "output_type": "execute_result"
    },
    {
     "data": {
      "image/png": "[encoded data removed]",
      "text/plain": [
       "<Figure size 432x288 with 1 Axes>"
      ]
     },
     "metadata": {
      "needs_background": "light"
     },
     "output_type": "display_data"
    }
   ],
   "source": [
    "\n",
    "#Plotting instances of each species\n",
    "\n",
    "setosa_data = training_data[training_data[\"Species\"]==\"Iris-setosa\"]\n",
    "plt.plot(setosa_data[\"PetalLengthCm\"],setosa_data[\"PetalWidthCm\"],\".\", label=\"Iris-setosa\")\n",
    "versicolar_data = training_data[training_data[\"Species\"]==\"Iris-versicolor\"]\n",
    "plt.plot(versicolar_data[\"PetalLengthCm\"],versicolar_data[\"PetalWidthCm\"],\"*\",label=\"Iris-versicolor\")\n",
    "virginica_data = training_data[training_data[\"Species\"]==\"Iris-virginica\"]\n",
    "plt.plot(virginica_data[\"PetalLengthCm\"],virginica_data[\"PetalWidthCm\"],\"p\",label=\"Iris-virginica\")\n",
    "plt.plot(setosa_length_mean,setosa_width_mean,\"D\", c=\"red\",label=\"Iris-setosa-mean\")\n",
    "plt.plot(versicolor_length_mean,versicolor_width_mean,\"s\", c=\"blue\",label=\"Iris-versicolor-mean\")\n",
    "plt.plot(virginica_length_mean,virginica_width_mean,\"*\", c=\"black\",label=\"Iris-virginica-mean\")"
   ]
  },
  {
   "cell_type": "code",
   "execution_count": 33,
   "id": "585a4f7b",
   "metadata": {},
   "outputs": [],
   "source": [
    "#Calculating each instances' distances between means\n",
    "\n",
    "for index, row in training_data2.iterrows():\n",
    "    dist_setosa = math.sqrt((setosa_length_mean - row[\"PetalLengthCm\"])**2 + (setosa_width_mean-row[\"PetalWidthCm\"])**2) \n",
    "    dist_versicolor = math.sqrt((versicolor_length_mean - row[\"PetalLengthCm\"])**2 + (versicolor_width_mean-row[\"PetalWidthCm\"])**2)\n",
    "    dist_virginica = math.sqrt((virginica_length_mean - row[\"PetalLengthCm\"])**2 + (virginica_width_mean-row[\"PetalWidthCm\"])**2)\n",
    "\n",
    "#Assigning each instance according to it's the nearest mean's class     \n",
    "    \n",
    "    if dist_setosa < dist_versicolor and dist_setosa < dist_virginica :\n",
    "        training_data2.iloc[index,2] = \"Iris-setosa\"\n",
    "    \n",
    "    elif dist_versicolor < dist_setosa and dist_versicolor < dist_virginica :\n",
    "        training_data2.iloc[index,2] = \"Iris-versicolor\"\n",
    "        \n",
    "    elif dist_virginica < dist_setosa and dist_virginica < dist_versicolor :\n",
    "        training_data2.iloc[index,2] = \"Iris-virginica\"\n",
    "        "
   ]
  },
  {
   "cell_type": "code",
   "execution_count": 34,
   "id": "f18b4e0e",
   "metadata": {},
   "outputs": [
    {
     "name": "stdout",
     "output_type": "stream",
     "text": [
      "[[30  0  0]\n",
      " [ 0 29  5]\n",
      " [ 0  1 25]]\n"
     ]
    }
   ],
   "source": [
    "#Checking each instance it is assigned correctly or not by comparing with training data \n",
    "#and creating 3x3 confusion matrix\n",
    "\n",
    "m = np.zeros((3, 3), dtype=int)\n",
    "for index, row in training_data2.iterrows():\n",
    "    \n",
    "    if row[\"Species\"] == \"Iris-setosa\":\n",
    "        if training_data.iloc[index,2] == \"Iris-setosa\":\n",
    "            m[0,0] += 1\n",
    "        elif training_data.iloc[index,2] == \"Iris-versicolor\":\n",
    "            m[0,1] += 1\n",
    "        elif training_data.iloc[index,2] == \"Iris-virginica\":\n",
    "            m[0,2] += 1\n",
    "    \n",
    "    elif row[\"Species\"] == \"Iris-versicolor\":\n",
    "        if training_data.iloc[index,2] == \"Iris-setosa\":\n",
    "            m[1,0] += 1\n",
    "        elif training_data.iloc[index,2] == \"Iris-versicolor\":\n",
    "            m[1,1] += 1\n",
    "        elif training_data.iloc[index,2] == \"Iris-virginica\":\n",
    "            m[1,2] += 1\n",
    "            \n",
    "    elif row[\"Species\"] == \"Iris-virginica\":\n",
    "        if training_data.iloc[index,2] == \"Iris-setosa\":\n",
    "            m[2,0] += 1\n",
    "        elif training_data.iloc[index,2] == \"Iris-versicolor\":\n",
    "            m[2,1] += 1\n",
    "        elif training_data.iloc[index,2] == \"Iris-virginica\":\n",
    "            m[2,2] += 1\n",
    "\n",
    "print(m)"
   ]
  },
  {
   "cell_type": "code",
   "execution_count": 35,
   "id": "bcf2f610",
   "metadata": {},
   "outputs": [],
   "source": [
    "#Calculating each instances' distances between means\n",
    "\n",
    "for index, row in test_data2.iterrows():\n",
    "    dist_setosa = math.sqrt((setosa_length_mean - row[\"PetalLengthCm\"])**2 + (setosa_width_mean-row[\"PetalWidthCm\"])**2) \n",
    "    dist_versicolor = math.sqrt((versicolor_length_mean - row[\"PetalLengthCm\"])**2 + (versicolor_width_mean-row[\"PetalWidthCm\"])**2)\n",
    "    dist_virginica = math.sqrt((virginica_length_mean - row[\"PetalLengthCm\"])**2 + (virginica_width_mean-row[\"PetalWidthCm\"])**2)\n",
    "\n",
    "#Assigning each instance according to it's the nearest mean's class  \n",
    "\n",
    "    if dist_setosa < dist_versicolor and dist_setosa < dist_virginica :\n",
    "        test_data2.iloc[index,2] = \"Iris-setosa\"\n",
    "    \n",
    "    elif dist_versicolor < dist_setosa and dist_versicolor < dist_virginica :\n",
    "        test_data2.iloc[index,2] = \"Iris-versicolor\"\n",
    "        \n",
    "    elif dist_virginica < dist_setosa and dist_virginica < dist_versicolor :\n",
    "        test_data2.iloc[index,2] = \"Iris-virginica\"\n",
    "        "
   ]
  },
  {
   "cell_type": "code",
   "execution_count": 36,
   "id": "e110d1ce",
   "metadata": {},
   "outputs": [
    {
     "name": "stdout",
     "output_type": "stream",
     "text": [
      "[[20  0  0]\n",
      " [ 0 19  1]\n",
      " [ 0  1 19]]\n"
     ]
    }
   ],
   "source": [
    "#Checking each instance it is assigned correctly or not by comparing with test data\n",
    "#and creating 3x3 confusion matrix\n",
    "\n",
    "m = np.zeros((3, 3), dtype=int)\n",
    "for index, row in test_data2.iterrows():\n",
    "    \n",
    "    if row[\"Species\"] == \"Iris-setosa\":\n",
    "        if test_data.iloc[index,2] == \"Iris-setosa\":\n",
    "            m[0,0] += 1\n",
    "        elif test_data.iloc[index,2] == \"Iris-versicolor\":\n",
    "            m[0,1] += 1\n",
    "        elif training_data.iloc[index,2] == \"Iris-virginica\":\n",
    "            m[0,2] += 1\n",
    "    \n",
    "    elif row[\"Species\"] == \"Iris-versicolor\":\n",
    "        if test_data.iloc[index,2] == \"Iris-setosa\":\n",
    "            m[1,0] += 1\n",
    "        elif test_data.iloc[index,2] == \"Iris-versicolor\":\n",
    "            m[1,1] += 1\n",
    "        elif test_data.iloc[index,2] == \"Iris-virginica\":\n",
    "            m[1,2] += 1\n",
    "            \n",
    "    elif row[\"Species\"] == \"Iris-virginica\":\n",
    "        if test_data.iloc[index,2] == \"Iris-setosa\":\n",
    "            m[2,0] += 1\n",
    "        elif test_data.iloc[index,2] == \"Iris-versicolor\":\n",
    "            m[2,1] += 1\n",
    "        elif test_data.iloc[index,2] == \"Iris-virginica\":\n",
    "            m[2,2] += 1\n",
    "\n",
    "print(m)"
   ]
  },
  {
   "cell_type": "code",
   "execution_count": 38,
   "id": "35c58ae0",
   "metadata": {},
   "outputs": [],
   "source": [
    "#Creating empty arrays to add these accurancy findings in functions\n",
    "\n",
    "training_array = []\n",
    "test_array = []\n",
    "training_array_results = []\n",
    "test_array_results = []"
   ]
  },
  {
   "cell_type": "code",
   "execution_count": 39,
   "id": "3e2ac8f1",
   "metadata": {},
   "outputs": [],
   "source": [
    "def kNN(k):\n",
    "    for index, row in test_data.iterrows():\n",
    "        \n",
    "        #Creating empty dataframe in order to add distances between the instance and other instances\n",
    "        distances = {'Distance': [], 'Specie':[]}\n",
    "        df = pd.DataFrame(distances)\n",
    "        \n",
    "        setosa_count = 0\n",
    "        versicolor_count = 0\n",
    "        virginica_count = 0\n",
    "        \n",
    "        for index2, row2 in training_data.iterrows():\n",
    "            distance = math.sqrt((row2[\"PetalLengthCm\"]-row[\"PetalLengthCm\"])**2 + (row2[\"PetalWidthCm\"]-row[\"PetalWidthCm\"])**2)\n",
    "            spe = row2[\"Species\"]\n",
    "            df = df.append({'Distance': distance , 'Specie': spe}, ignore_index = True)    \n",
    "            df = df.sort_values(by=[\"Distance\"])\n",
    "            \n",
    "        for x in range(k):\n",
    "            if df.loc[x,'Specie'] == \"Iris-setosa\":\n",
    "                setosa_count += 1\n",
    "            elif df.loc[x,'Specie'] == \"Iris-versicolor\":\n",
    "                versicolor_count += 1\n",
    "            else:\n",
    "                virginica_count += 1\n",
    "                \n",
    "        #Determining which species to assign according to the most frequent species in the most nearest k instances\n",
    "                \n",
    "        if setosa_count > versicolor_count and setosa_count > virginica_count:\n",
    "            test_data3.loc[index,\"Species\"] = \"Iris-setosa\"\n",
    "            \n",
    "        elif versicolor_count > setosa_count and versicolor_count > virginica_count:\n",
    "            test_data3.loc[index,\"Species\"] = \"Iris-versicolor\"\n",
    "\n",
    "        elif virginica_count > versicolor_count and virginica_count > setosa_count:\n",
    "            test_data3.loc[index,\"Species\"] = \"Iris-virginica\"\n",
    "\n",
    "        else:\n",
    "            speci = df.loc[0,\"Specie\"]\n",
    "            test_data3.loc[index,\"Species\"] = speci\n",
    "            \n",
    "    m = np.zeros((3, 3), dtype=int)\n",
    "    for index, row in test_data3.iterrows():\n",
    "\n",
    "        if row[\"Species\"] == \"Iris-setosa\":\n",
    "            if test_data.iloc[index,2] == \"Iris-setosa\":\n",
    "                m[0,0] += 1\n",
    "            elif test_data.iloc[index,2] == \"Iris-versicolor\":\n",
    "                m[0,1] += 1\n",
    "            elif test_data.iloc[index,2] == \"Iris-virginica\":\n",
    "                m[0,2] += 1\n",
    "\n",
    "        elif row[\"Species\"] == \"Iris-versicolor\":\n",
    "            if test_data.iloc[index,2] == \"Iris-setosa\":\n",
    "                m[1,0] += 1\n",
    "            elif test_data.iloc[index,2] == \"Iris-versicolor\":\n",
    "                m[1,1] += 1\n",
    "            elif test_data.iloc[index,2] == \"Iris-virginica\":\n",
    "                m[1,2] += 1\n",
    "\n",
    "        elif row[\"Species\"] == \"Iris-virginica\":\n",
    "            if test_data.iloc[index,2] == \"Iris-setosa\":\n",
    "                m[2,0] += 1\n",
    "            elif test_data.iloc[index,2] == \"Iris-versicolor\":\n",
    "                m[2,1] += 1\n",
    "            elif test_data.iloc[index,2] == \"Iris-virginica\":\n",
    "                m[2,2] += 1\n",
    "\n",
    "    #Calculating accuracies    \n",
    "    \n",
    "    test_array.append((100-(m[0,1]+m[0,2]+m[1,0]+m[1,2]+m[2,0]+m[2,1])/(m[0,1]+m[0,2]+m[0,0]+m[1,0]+m[1,1]+m[1,2]+m[2,0]+m[2,1]+m[2,2]))/100)\n",
    "    test_array_results.append(k)\n",
    "    print(m)"
   ]
  },
  {
   "cell_type": "code",
   "execution_count": 44,
   "id": "b9240efc",
   "metadata": {
    "scrolled": true
   },
   "outputs": [
    {
     "name": "stdout",
     "output_type": "stream",
     "text": [
      "Confusion matrix for k=1\n",
      "[[20  0  0]\n",
      " [ 0 19  1]\n",
      " [ 0  1 19]]\n",
      "Confusion matrix for k=3\n",
      "[[20  0  0]\n",
      " [ 0 20  1]\n",
      " [ 0  0 19]]\n",
      "Confusion matrix for k=5\n",
      "[[20  0  0]\n",
      " [ 0 20  1]\n",
      " [ 0  0 19]]\n",
      "Confusion matrix for k=7\n",
      "[[20  0  0]\n",
      " [ 0 19  1]\n",
      " [ 0  1 19]]\n",
      "Confusion matrix for k=9\n",
      "[[20  0  0]\n",
      " [ 0 19  1]\n",
      " [ 0  1 19]]\n"
     ]
    }
   ],
   "source": [
    "print(\"Confusion matrix for k=1\")\n",
    "kNN(1)\n",
    "print(\"Confusion matrix for k=3\")\n",
    "kNN(3)\n",
    "print(\"Confusion matrix for k=5\")\n",
    "kNN(5)\n",
    "print(\"Confusion matrix for k=7\")\n",
    "kNN(7)\n",
    "print(\"Confusion matrix for k=9\")\n",
    "kNN(9)"
   ]
  },
  {
   "cell_type": "code",
   "execution_count": 41,
   "id": "728057e2",
   "metadata": {},
   "outputs": [],
   "source": [
    "def kNN_2(k):\n",
    "    for index, row in training_data.iterrows():\n",
    "        \n",
    "        #Creating empty dataframe in order to add distances between the instance and other instances\n",
    "        distances = {'Distance': [], 'Specie':[]}\n",
    "        df = pd.DataFrame(distances)\n",
    "\n",
    "        setosa_count = 0\n",
    "        versicolor_count = 0\n",
    "        virginica_count = 0\n",
    "        \n",
    "        for index2, row2 in training_data.iterrows():\n",
    "            distance = math.sqrt((row2[\"PetalLengthCm\"]-row[\"PetalLengthCm\"])**2 + (row2[\"PetalWidthCm\"]-row[\"PetalWidthCm\"])**2)\n",
    "            spe = row2[\"Species\"]\n",
    "            df = df.append({'Distance': distance , 'Specie': spe}, ignore_index = True)    \n",
    "            df = df.sort_values(by=[\"Distance\"])\n",
    "            \n",
    "        for x in range(k):\n",
    "            if df.loc[x,'Specie'] == \"Iris-setosa\":\n",
    "                setosa_count += 1\n",
    "                \n",
    "            elif df.loc[x,'Specie'] == \"Iris-versicolor\":\n",
    "                versicolor_count += 1\n",
    "\n",
    "            else:\n",
    "                virginica_count += 1\n",
    "                \n",
    "        #Determining which species to assign according to the most frequent species in the most nearest k instances        \n",
    "                \n",
    "        if setosa_count > versicolor_count and setosa_count > virginica_count:\n",
    "            training_data3.loc[index,\"Species\"] = \"Iris-setosa\"\n",
    "\n",
    "        elif versicolor_count > setosa_count and versicolor_count > virginica_count:\n",
    "            training_data3.loc[index,\"Species\"] = \"Iris-versicolor\"\n",
    "\n",
    "        elif virginica_count > versicolor_count and virginica_count > setosa_count:\n",
    "            training_data3.loc[index,\"Species\"] = \"Iris-virginica\"\n",
    "\n",
    "        else:\n",
    "            speci = df.loc[0,\"Specie\"]\n",
    "            training_data3.loc[index,\"Species\"] = speci\n",
    "            \n",
    "    m = np.zeros((3, 3), dtype=int)\n",
    "    for index, row in training_data3.iterrows():\n",
    "\n",
    "        if row[\"Species\"] == \"Iris-setosa\":\n",
    "            if training_data.iloc[index,2] == \"Iris-setosa\":\n",
    "                m[0,0] += 1\n",
    "            elif training_data.iloc[index,2] == \"Iris-versicolor\":\n",
    "                m[0,1] += 1\n",
    "            elif training_data.iloc[index,2] == \"Iris-virginica\":\n",
    "                m[0,2] += 1\n",
    "\n",
    "        elif row[\"Species\"] == \"Iris-versicolor\":\n",
    "            if training_data.iloc[index,2] == \"Iris-setosa\":\n",
    "                m[1,0] += 1\n",
    "            elif training_data.iloc[index,2] == \"Iris-versicolor\":\n",
    "                m[1,1] += 1\n",
    "            elif training_data.iloc[index,2] == \"Iris-virginica\":\n",
    "                m[1,2] += 1\n",
    "\n",
    "        elif row[\"Species\"] == \"Iris-virginica\":\n",
    "            if training_data.iloc[index,2] == \"Iris-setosa\":\n",
    "                m[2,0] += 1\n",
    "            elif training_data.iloc[index,2] == \"Iris-versicolor\":\n",
    "                m[2,1] += 1\n",
    "            elif training_data.iloc[index,2] == \"Iris-virginica\":\n",
    "                m[2,2] += 1\n",
    "    \n",
    "    #Calculating accuracies\n",
    "    \n",
    "    training_array.append((100-(m[0,1]+m[0,2]+m[1,0]+m[1,2]+m[2,0]+m[2,1])/(m[0,1]+m[0,2]+m[0,0]+m[1,0]+m[1,1]+m[1,2]+m[2,0]+m[2,1]+m[2,2]))/100)\n",
    "    training_array_results.append(k)\n",
    "    print(m)"
   ]
  },
  {
   "cell_type": "code",
   "execution_count": 42,
   "id": "826528cd",
   "metadata": {},
   "outputs": [
    {
     "name": "stdout",
     "output_type": "stream",
     "text": [
      "Confusion matrix for k=1\n",
      "[[30  0  0]\n",
      " [ 0 30  1]\n",
      " [ 0  0 29]]\n",
      "Confusion matrix for k=3\n",
      "[[30  0  0]\n",
      " [ 0 28  2]\n",
      " [ 0  2 28]]\n",
      "Confusion matrix for k=5\n",
      "[[30  0  0]\n",
      " [ 0 28  2]\n",
      " [ 0  2 28]]\n",
      "Confusion matrix for k=7\n",
      "[[30  0  0]\n",
      " [ 0 28  2]\n",
      " [ 0  2 28]]\n",
      "Confusion matrix for k=9\n",
      "[[30  0  0]\n",
      " [ 0 28  2]\n",
      " [ 0  2 28]]\n"
     ]
    }
   ],
   "source": [
    "print(\"Confusion matrix for k=1\")\n",
    "kNN_2(1)\n",
    "print(\"Confusion matrix for k=3\")\n",
    "kNN_2(3)\n",
    "print(\"Confusion matrix for k=5\")\n",
    "kNN_2(5)\n",
    "print(\"Confusion matrix for k=7\")\n",
    "kNN_2(7)\n",
    "print(\"Confusion matrix for k=9\")\n",
    "kNN_2(9)\n"
   ]
  },
  {
   "cell_type": "code",
   "execution_count": 46,
   "id": "deda0c8e",
   "metadata": {},
   "outputs": [
    {
     "data": {
      "text/plain": [
       "Text(0, 0.5, 'Accuracy')"
      ]
     },
     "execution_count": 46,
     "metadata": {},
     "output_type": "execute_result"
    },
    {
     "data": {
      "image/png": "[encoded data removed]",
      "text/plain": [
       "<Figure size 432x288 with 1 Axes>"
      ]
     },
     "metadata": {
      "needs_background": "light"
     },
     "output_type": "display_data"
    }
   ],
   "source": [
    "#Plotting accuracies according to k\n",
    "\n",
    "plt.plot(training_array_results, training_array)\n",
    "plt.plot(test_array_results, test_array)\n",
    "plt.xlabel(\"k\")\n",
    "plt.ylabel(\"Accuracy\")"
   ]
  }
 ],
 "metadata": {
  "kernelspec": {
   "display_name": "Python 3",
   "language": "python",
   "name": "python3"
  },
  "language_info": {
   "codemirror_mode": {
    "name": "ipython",
    "version": 3
   },
   "file_extension": ".py",
   "mimetype": "text/x-python",
   "name": "python",
   "nbconvert_exporter": "python",
   "pygments_lexer": "ipython3",
   "version": "3.8.8"
  }
 },
 "nbformat": 4,
 "nbformat_minor": 5
}
